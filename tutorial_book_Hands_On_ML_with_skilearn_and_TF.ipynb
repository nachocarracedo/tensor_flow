{
 "cells": [
  {
   "cell_type": "markdown",
   "metadata": {},
   "source": [
    "Fron the book: Hands_On_Machine_Learning_with_Scikit_Learn_and_TensorFlow"
   ]
  },
  {
   "cell_type": "code",
   "execution_count": null,
   "metadata": {
    "collapsed": true
   },
   "outputs": [],
   "source": [
    "import tensorflow as tf"
   ]
  },
  {
   "cell_type": "markdown",
   "metadata": {},
   "source": [
    "TensorFlow is a powerful open source software library for numerical computation,\n",
    "particularly well suited and fine-tuned for large-scale Machine Learning. Its basic\n",
    "principle is simple: you first define in Python a graph of computations to perform\n",
    "(for example, the one in Figure 9-1), and then TensorFlow takes that graph and runs\n",
    "it efficiently using optimized C++ code."
   ]
  },
  {
   "cell_type": "markdown",
   "metadata": {
    "collapsed": true
   },
   "source": [
    "It provides a very simple Python API called TF.Learn2 (tensorflow.con\n",
    "trib.learn), compatible with Scikit-Learn. As you will see, you can use it to\n",
    "train various types of neural networks in just a few lines of code. It was previously\n",
    "an independent project called Scikit Flow (or skflow).\n",
    "\n",
    "It also provides another simple API called TF-slim (tensorflow.contrib.slim)\n",
    "to simplify building, training, and evaluating neural networks.\n",
    "\n",
    "Several other high-level APIs have been built independently on top of Tensor‐\n",
    "Flow, such as Keras or Pretty Tensor.\n",
    "\n",
    "Its main Python API offers much more flexibility (at the cost of higher complexity)\n",
    "to create all sorts of computations, including any neural network architecture\n",
    "you can think of.\n",
    "\n",
    "It includes highly efficient C++ implementations of many ML operations, particularly\n",
    "those needed to build neural networks. There is also a C++ API to define\n",
    "your own high-performance operations.\n",
    "\n",
    "It provides several advanced optimization nodes to search for the parameters that\n",
    "minimize a cost function. These are very easy to use since TensorFlow automatically\n",
    "takes care of computing the gradients of the functions you define. This is\n",
    "called automatic differentiating (or autodiff).\n",
    "\n",
    "• It also comes with a great visualization tool called TensorBoard that allows you to\n",
    "browse through the computation graph, view learning curves, and more."
   ]
  },
  {
   "cell_type": "code",
   "execution_count": null,
   "metadata": {
    "collapsed": true
   },
   "outputs": [],
   "source": []
  }
 ],
 "metadata": {
  "kernelspec": {
   "display_name": "Python 3",
   "language": "python",
   "name": "python3"
  },
  "language_info": {
   "codemirror_mode": {
    "name": "ipython",
    "version": 3
   },
   "file_extension": ".py",
   "mimetype": "text/x-python",
   "name": "python",
   "nbconvert_exporter": "python",
   "pygments_lexer": "ipython3",
   "version": "3.5.3"
  }
 },
 "nbformat": 4,
 "nbformat_minor": 2
}
